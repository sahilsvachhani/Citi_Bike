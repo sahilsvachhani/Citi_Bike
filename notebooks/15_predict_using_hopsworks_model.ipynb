{
 "cells": [
  {
   "cell_type": "code",
   "execution_count": 3,
   "id": "e77bdbaf-4462-46e5-9a38-07c4ed232b73",
   "metadata": {},
   "outputs": [],
   "source": [
    "%load_ext autoreload\n",
    "%autoreload 2\n",
    "\n",
    "import sys\n",
    "import os\n",
    "from datetime import datetime, timedelta\n",
    "import pandas as pd\n",
    "\n",
    "# Add project root to Python path\n",
    "sys.path.append(os.path.abspath(os.path.join(os.getcwd(), \"..\")))\n",
    "\n",
    "import src.config as config\n",
    "from src.inference import get_feature_store, load_model_from_registry, get_model_predictions\n",
    "from src.data_utils import transform_ts_data_info_features\n"
   ]
  },
  {
   "cell_type": "code",
   "execution_count": 5,
   "id": "5f2ff7ad-c2ab-4437-9e2a-c71ccf3f0c5d",
   "metadata": {},
   "outputs": [
    {
     "name": "stdout",
     "output_type": "stream",
     "text": [
      "2025-05-10 07:33:53,669 WARNING: PydanticDeprecatedSince20: Pydantic V1 style `@validator` validators are deprecated. You should migrate to Pydantic V2 style `@field_validator` validators, see the migration guide for more details. Deprecated in Pydantic V2.0 to be removed in V3.0. See Pydantic V2 Migration Guide at https://errors.pydantic.dev/2.10/migration/\n",
      "\n",
      "2025-05-10 07:33:53,670 WARNING: PydanticDeprecatedSince20: Pydantic V1 style `@validator` validators are deprecated. You should migrate to Pydantic V2 style `@field_validator` validators, see the migration guide for more details. Deprecated in Pydantic V2.0 to be removed in V3.0. See Pydantic V2 Migration Guide at https://errors.pydantic.dev/2.10/migration/\n",
      "\n",
      "2025-05-10 07:33:53,671 WARNING: PydanticDeprecatedSince20: Pydantic V1 style `@validator` validators are deprecated. You should migrate to Pydantic V2 style `@field_validator` validators, see the migration guide for more details. Deprecated in Pydantic V2.0 to be removed in V3.0. See Pydantic V2 Migration Guide at https://errors.pydantic.dev/2.10/migration/\n",
      "\n",
      "2025-05-10 07:33:53,671 WARNING: PydanticDeprecatedSince20: Pydantic V1 style `@validator` validators are deprecated. You should migrate to Pydantic V2 style `@field_validator` validators, see the migration guide for more details. Deprecated in Pydantic V2.0 to be removed in V3.0. See Pydantic V2 Migration Guide at https://errors.pydantic.dev/2.10/migration/\n",
      "\n",
      "2025-05-10 07:33:53,672 WARNING: PydanticDeprecatedSince20: Pydantic V1 style `@validator` validators are deprecated. You should migrate to Pydantic V2 style `@field_validator` validators, see the migration guide for more details. Deprecated in Pydantic V2.0 to be removed in V3.0. See Pydantic V2 Migration Guide at https://errors.pydantic.dev/2.10/migration/\n",
      "\n",
      "2025-05-10 07:33:53,672 WARNING: PydanticDeprecatedSince20: Pydantic V1 style `@validator` validators are deprecated. You should migrate to Pydantic V2 style `@field_validator` validators, see the migration guide for more details. Deprecated in Pydantic V2.0 to be removed in V3.0. See Pydantic V2 Migration Guide at https://errors.pydantic.dev/2.10/migration/\n",
      "\n",
      "2025-05-10 07:33:53,673 WARNING: PydanticDeprecatedSince20: Pydantic V1 style `@validator` validators are deprecated. You should migrate to Pydantic V2 style `@field_validator` validators, see the migration guide for more details. Deprecated in Pydantic V2.0 to be removed in V3.0. See Pydantic V2 Migration Guide at https://errors.pydantic.dev/2.10/migration/\n",
      "\n",
      "2025-05-10 07:33:53,674 WARNING: PydanticDeprecatedSince20: Pydantic V1 style `@validator` validators are deprecated. You should migrate to Pydantic V2 style `@field_validator` validators, see the migration guide for more details. Deprecated in Pydantic V2.0 to be removed in V3.0. See Pydantic V2 Migration Guide at https://errors.pydantic.dev/2.10/migration/\n",
      "\n",
      "2025-05-10 07:33:53,675 WARNING: PydanticDeprecatedSince20: Pydantic V1 style `@validator` validators are deprecated. You should migrate to Pydantic V2 style `@field_validator` validators, see the migration guide for more details. Deprecated in Pydantic V2.0 to be removed in V3.0. See Pydantic V2 Migration Guide at https://errors.pydantic.dev/2.10/migration/\n",
      "\n",
      "2025-05-10 07:33:53,675 WARNING: PydanticDeprecatedSince20: Pydantic V1 style `@validator` validators are deprecated. You should migrate to Pydantic V2 style `@field_validator` validators, see the migration guide for more details. Deprecated in Pydantic V2.0 to be removed in V3.0. See Pydantic V2 Migration Guide at https://errors.pydantic.dev/2.10/migration/\n",
      "\n",
      "2025-05-10 07:33:53,677 WARNING: PydanticDeprecatedSince20: Pydantic V1 style `@validator` validators are deprecated. You should migrate to Pydantic V2 style `@field_validator` validators, see the migration guide for more details. Deprecated in Pydantic V2.0 to be removed in V3.0. See Pydantic V2 Migration Guide at https://errors.pydantic.dev/2.10/migration/\n",
      "\n",
      "2025-05-10 07:33:53,677 WARNING: PydanticDeprecatedSince20: Pydantic V1 style `@validator` validators are deprecated. You should migrate to Pydantic V2 style `@field_validator` validators, see the migration guide for more details. Deprecated in Pydantic V2.0 to be removed in V3.0. See Pydantic V2 Migration Guide at https://errors.pydantic.dev/2.10/migration/\n",
      "\n",
      "2025-05-10 07:33:53,677 WARNING: PydanticDeprecatedSince20: Pydantic V1 style `@root_validator` validators are deprecated. You should migrate to Pydantic V2 style `@model_validator` validators, see the migration guide for more details. Deprecated in Pydantic V2.0 to be removed in V3.0. See Pydantic V2 Migration Guide at https://errors.pydantic.dev/2.10/migration/\n",
      "\n",
      "2025-05-10 07:33:53,677 WARNING: PydanticDeprecatedSince20: Pydantic V1 style `@validator` validators are deprecated. You should migrate to Pydantic V2 style `@field_validator` validators, see the migration guide for more details. Deprecated in Pydantic V2.0 to be removed in V3.0. See Pydantic V2 Migration Guide at https://errors.pydantic.dev/2.10/migration/\n",
      "\n",
      "2025-05-10 07:33:53,677 WARNING: PydanticDeprecatedSince20: Pydantic V1 style `@validator` validators are deprecated. You should migrate to Pydantic V2 style `@field_validator` validators, see the migration guide for more details. Deprecated in Pydantic V2.0 to be removed in V3.0. See Pydantic V2 Migration Guide at https://errors.pydantic.dev/2.10/migration/\n",
      "\n",
      "2025-05-10 07:33:53,678 WARNING: PydanticDeprecatedSince20: Support for class-based `config` is deprecated, use ConfigDict instead. Deprecated in Pydantic V2.0 to be removed in V3.0. See Pydantic V2 Migration Guide at https://errors.pydantic.dev/2.10/migration/\n",
      "\n"
     ]
    },
    {
     "name": "stderr",
     "output_type": "stream",
     "text": [
      "2025/05/10 07:33:54 INFO mlflow.tracking.fluent: Experiment with name 'xgboost-lag3' does not exist. Creating a new experiment.\n"
     ]
    },
    {
     "name": "stdout",
     "output_type": "stream",
     "text": [
      "🔐 Logging in to Hopsworks...\n",
      "2025-05-10 07:33:54,929 INFO: Initializing external client\n",
      "2025-05-10 07:33:54,930 INFO: Base URL: https://c.app.hopsworks.ai:443\n",
      "2025-05-10 07:33:55,896 INFO: Python Engine initialized.\n",
      "\n",
      "Logged in to project, explore it here https://c.app.hopsworks.ai:443/p/1228960\n",
      "Finished: Reading data from Hopsworks, using Hopsworks Feature Query Service (1.03s) \n",
      "✅ Loaded features: (26535, 3)\n"
     ]
    }
   ],
   "source": [
    "import pandas as pd\n",
    "import numpy as np\n",
    "import joblib\n",
    "import mlflow\n",
    "import hopsworks\n",
    "from sklearn.metrics import mean_squared_error, mean_absolute_error\n",
    "from xgboost import XGBRegressor\n",
    "from datetime import timedelta\n",
    "\n",
    "from src import config as c\n",
    "from src.pipeline_utils import create_lag_features\n",
    "mlflow.set_experiment(\"xgboost-lag3\")\n",
    "\n",
    "# Step 2: Load Features from Hopsworks\n",
    "print(\"🔐 Logging in to Hopsworks...\")\n",
    "project = hopsworks.login(project=c.HOPSWORKS_PROJECT_NAME, api_key_value=c.HOPSWORKS_API_KEY)\n",
    "fs = project.get_feature_store()\n",
    "\n",
    "fg = fs.get_feature_group(name=c.FEATURE_GROUP_NAME, version=c.FEATURE_GROUP_VERSION)\n",
    "df = fg.read()\n",
    "print(\"✅ Loaded features:\", df.shape)"
   ]
  },
  {
   "cell_type": "code",
   "execution_count": 7,
   "id": "90d1ab4e-0e15-4112-ba8f-d6225c0399a9",
   "metadata": {},
   "outputs": [
    {
     "name": "stdout",
     "output_type": "stream",
     "text": [
      "✅ Data with lags: (26526, 6)\n"
     ]
    }
   ],
   "source": [
    "# Step 3: Preprocess Features (create lags)\n",
    "df = df.sort_values([\"pickup_location_id\", \"pickup_hour\"])\n",
    "df = create_lag_features(df, lags=[1, 2, 3], group_col=\"pickup_location_id\", target_col=\"rides\")\n",
    "df = df.dropna()\n",
    "print(\"✅ Data with lags:\", df.shape)"
   ]
  },
  {
   "cell_type": "code",
   "execution_count": 9,
   "id": "01de7569-09e0-48d1-9704-0e65effe8802",
   "metadata": {},
   "outputs": [],
   "source": [
    "# Step 4: Train/Test Split (last 7 days as test)\n",
    "df[\"pickup_hour\"] = pd.to_datetime(df[\"pickup_hour\"])\n",
    "max_date = df.pickup_hour.max()\n",
    "split_date = max_date - timedelta(days=7)\n",
    "train_df = df[df.pickup_hour < split_date]\n",
    "test_df = df[df.pickup_hour >= split_date]\n",
    "\n",
    "X_train = train_df[[\"rides_t-1\", \"rides_t-2\", \"rides_t-3\"]]\n",
    "y_train = train_df[\"rides\"]\n",
    "X_test = test_df[[\"rides_t-1\", \"rides_t-2\", \"rides_t-3\"]]\n",
    "y_test = test_df[\"rides\"]"
   ]
  },
  {
   "cell_type": "code",
   "execution_count": 11,
   "id": "0cfd7311-4536-4fd1-a35a-fc7474bb4d1d",
   "metadata": {},
   "outputs": [
    {
     "name": "stdout",
     "output_type": "stream",
     "text": [
      "2025-05-10 07:34:08,963 WARNING: DeprecationWarning: is_sparse is deprecated and will be removed in a future version. Check `isinstance(dtype, pd.SparseDtype)` instead.\n",
      "\n",
      "2025-05-10 07:34:08,964 WARNING: DeprecationWarning: is_sparse is deprecated and will be removed in a future version. Check `isinstance(dtype, pd.SparseDtype)` instead.\n",
      "\n",
      "2025-05-10 07:34:08,965 WARNING: DeprecationWarning: is_sparse is deprecated and will be removed in a future version. Check `isinstance(dtype, pd.SparseDtype)` instead.\n",
      "\n",
      "2025-05-10 07:34:08,965 WARNING: DeprecationWarning: is_sparse is deprecated and will be removed in a future version. Check `isinstance(dtype, pd.SparseDtype)` instead.\n",
      "\n",
      "2025-05-10 07:34:09,689 WARNING: DeprecationWarning: datetime.datetime.utcnow() is deprecated and scheduled for removal in a future version. Use timezone-aware objects to represent datetimes in UTC: datetime.datetime.now(datetime.UTC).\n",
      "\n"
     ]
    },
    {
     "name": "stderr",
     "output_type": "stream",
     "text": [
      "\u001b[31m2025/05/10 07:34:12 WARNING mlflow.models.model: Model logged without a signature and input example. Please set `input_example` parameter when logging the model to auto infer the model signature.\u001b[0m\n"
     ]
    },
    {
     "name": "stdout",
     "output_type": "stream",
     "text": [
      "🏃 View run youthful-cat-862 at: https://dagshub.com/sahilsubhasbhaivachhani/final_project.mlflow/#/experiments/6/runs/a04ff06683fa4afaa53d976699187ab2\n",
      "🧪 View experiment at: https://dagshub.com/sahilsubhasbhaivachhani/final_project.mlflow/#/experiments/6\n",
      "✅ Model trained. RMSE: 6.688097561380374 MAE: 4.604501147477114\n"
     ]
    }
   ],
   "source": [
    "# Step 5: Model Training and MLflow Tracking\n",
    "mlflow.set_experiment(\"xgboost-lag3\")\n",
    "with mlflow.start_run():\n",
    "    model = XGBRegressor(n_estimators=100, learning_rate=0.1, random_state=42)\n",
    "    model.fit(X_train, y_train)\n",
    "\n",
    "    preds = model.predict(X_test)\n",
    "    rmse = mean_squared_error(y_test, preds, squared=False)\n",
    "    mae = mean_absolute_error(y_test, preds)\n",
    "\n",
    "    mlflow.log_param(\"model_type\", \"XGBoost\")\n",
    "    mlflow.log_param(\"n_estimators\", 100)\n",
    "    mlflow.log_param(\"learning_rate\", 0.1)\n",
    "    mlflow.log_metric(\"rmse\", rmse)\n",
    "    mlflow.log_metric(\"mae\", mae)\n",
    "\n",
    "    # Save model\n",
    "    model_path = c.MODELS_DIR / \"xgb_model.pkl\"\n",
    "    joblib.dump(model, model_path)\n",
    "    mlflow.sklearn.log_model(model, \"model\")\n",
    "\n",
    "print(\"✅ Model trained. RMSE:\", rmse, \"MAE:\", mae)"
   ]
  },
  {
   "cell_type": "code",
   "execution_count": 13,
   "id": "0150be0b-5b4b-4c4c-9bdf-83a7f92194f9",
   "metadata": {},
   "outputs": [
    {
     "name": "stdout",
     "output_type": "stream",
     "text": [
      "✅ Model trained. RMSE: 6.688097561380374 MAE: 4.604501147477114\n"
     ]
    }
   ],
   "source": [
    "print(\"✅ Model trained. RMSE:\", rmse, \"MAE:\", mae)"
   ]
  },
  {
   "cell_type": "code",
   "execution_count": 15,
   "id": "f6c0988a-52e4-4068-9e25-d3611f929a40",
   "metadata": {},
   "outputs": [
    {
     "name": "stdout",
     "output_type": "stream",
     "text": [
      "2025-05-10 07:34:22,320 WARNING: ProvenanceWarning: Model schema cannot not be inferred without both the feature view and the training dataset version.\n",
      "\n"
     ]
    },
    {
     "data": {
      "application/vnd.jupyter.widget-view+json": {
       "model_id": "d94a5ce3d69d40fd9b8b1599b0986f06",
       "version_major": 2,
       "version_minor": 0
      },
      "text/plain": [
       "  0%|          | 0/6 [00:00<?, ?it/s]"
      ]
     },
     "metadata": {},
     "output_type": "display_data"
    },
    {
     "data": {
      "application/vnd.jupyter.widget-view+json": {
       "model_id": "a22d568671df407dac7b3661c4d5c0ea",
       "version_major": 2,
       "version_minor": 0
      },
      "text/plain": [
       "Uploading /Users/tejas/Desktop/Zia Final Project/models/xgb_model.pkl: 0.000%|          | 0/399480 elapsed<00:…"
      ]
     },
     "metadata": {},
     "output_type": "display_data"
    },
    {
     "name": "stdout",
     "output_type": "stream",
     "text": [
      "Model created, explore it at https://c.app.hopsworks.ai:443/p/1228960/models/citi_bike_data/1\n",
      "📦 Model registered in Hopsworks: citi_bike_data\n"
     ]
    }
   ],
   "source": [
    "# Step 6: Register Model in Hopsworks\n",
    "mr = project.get_model_registry()\n",
    "\n",
    "model_hops = mr.python.create_model(\n",
    "    name=c.MODEL_NAME,\n",
    "    metrics={\"rmse\": rmse},\n",
    "    description=\"XGBoost model trained on lag features\"\n",
    ")\n",
    "\n",
    "# ✅ Add this to upload the model file\n",
    "model_hops.save(str(model_path))\n",
    "\n",
    "print(\"📦 Model registered in Hopsworks:\", model_hops.name)\n"
   ]
  },
  {
   "cell_type": "code",
   "execution_count": 17,
   "id": "d910a96c-774d-4cf7-8794-caa50e3eb88f",
   "metadata": {},
   "outputs": [
    {
     "name": "stdout",
     "output_type": "stream",
     "text": [
      "2025-05-10 07:34:35,110 WARNING: ProvenanceWarning: Model schema cannot not be inferred without both the feature view and the training dataset version.\n",
      "\n"
     ]
    },
    {
     "data": {
      "application/vnd.jupyter.widget-view+json": {
       "model_id": "fec4c28271ff442c9acc4edd81a4a743",
       "version_major": 2,
       "version_minor": 0
      },
      "text/plain": [
       "  0%|          | 0/6 [00:00<?, ?it/s]"
      ]
     },
     "metadata": {},
     "output_type": "display_data"
    },
    {
     "data": {
      "application/vnd.jupyter.widget-view+json": {
       "model_id": "419b0dfd40ae48ca97782e82021b5188",
       "version_major": 2,
       "version_minor": 0
      },
      "text/plain": [
       "Uploading /Users/tejas/Desktop/Zia Final Project/models/xgb_model.pkl: 0.000%|          | 0/399480 elapsed<00:…"
      ]
     },
     "metadata": {},
     "output_type": "display_data"
    },
    {
     "name": "stdout",
     "output_type": "stream",
     "text": [
      "Model created, explore it at https://c.app.hopsworks.ai:443/p/1228960/models/citi_bike_data/2\n",
      "📦 Model registered in Hopsworks: citi_bike_data\n"
     ]
    }
   ],
   "source": [
    "# Step 6: Register Model in Hopsworks\n",
    "mr = project.get_model_registry()\n",
    "\n",
    "model_hops = mr.python.create_model(\n",
    "    name=c.MODEL_NAME,\n",
    "    metrics={\"mae\": mae},\n",
    "    description=\"XGBoost model trained on lag features\"\n",
    ")\n",
    "\n",
    "# ✅ Add this to upload the model file\n",
    "model_hops.save(str(model_path))\n",
    "\n",
    "print(\"📦 Model registered in Hopsworks:\", model_hops.name)\n"
   ]
  },
  {
   "cell_type": "code",
   "execution_count": null,
   "id": "3b2071f3-a16e-42d4-88a5-74233c74e406",
   "metadata": {},
   "outputs": [],
   "source": []
  }
 ],
 "metadata": {
  "kernelspec": {
   "display_name": "Python 3 (ipykernel)",
   "language": "python",
   "name": "python3"
  },
  "language_info": {
   "codemirror_mode": {
    "name": "ipython",
    "version": 3
   },
   "file_extension": ".py",
   "mimetype": "text/x-python",
   "name": "python",
   "nbconvert_exporter": "python",
   "pygments_lexer": "ipython3",
   "version": "3.12.7"
  }
 },
 "nbformat": 4,
 "nbformat_minor": 5
}
