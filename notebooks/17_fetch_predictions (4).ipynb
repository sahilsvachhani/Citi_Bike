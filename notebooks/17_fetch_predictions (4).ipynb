{
 "cells": [
  {
   "cell_type": "code",
   "execution_count": 1,
   "id": "b674d168-e041-4726-a0c1-b4b703f9b5ab",
   "metadata": {},
   "outputs": [],
   "source": [
    "%load_ext autoreload\n",
    "%autoreload 2"
   ]
  },
  {
   "cell_type": "code",
   "execution_count": 2,
   "id": "5c52ab76-f948-4474-a263-e9499a7cc04f",
   "metadata": {},
   "outputs": [],
   "source": [
    "import sys\n",
    "import os\n",
    "\n",
    "# Add the parent directory to the Python path\n",
    "sys.path.append(os.path.abspath(os.path.join(os.getcwd(), \"..\")))\n",
    "import src.config as config"
   ]
  },
  {
   "cell_type": "code",
   "execution_count": 3,
   "id": "6c824391-52d2-4b7e-b37a-863aa22b398f",
   "metadata": {},
   "outputs": [
    {
     "name": "stdout",
     "output_type": "stream",
     "text": [
      "Current UTC hour (ceiled): 2025-05-10 13:00:00+00:00\n"
     ]
    }
   ],
   "source": [
    "import src.config as config\n",
    "from src.inference import (\n",
    "    get_feature_store\n",
    ")\n",
    "\n",
    "from datetime import datetime, timezone, timedelta\n",
    "\n",
    "def get_current_utc_hour_ceiled():\n",
    "    \"\"\"Get current UTC time ceiled to the next hour\"\"\"\n",
    "    current = datetime.now(timezone.utc)\n",
    "    if current.minute > 0 or current.second > 0:\n",
    "        # Ceil to next hour\n",
    "        current = current + timedelta(hours=1)\n",
    "\n",
    "    # Reset minutes, seconds, and microseconds\n",
    "    current = current.replace(minute=0, second=0, microsecond=0)\n",
    "    return current\n",
    "\n",
    "# Usage\n",
    "current_hour = get_current_utc_hour_ceiled()\n",
    "print(f\"Current UTC hour (ceiled): {current_hour}\")"
   ]
  },
  {
   "cell_type": "code",
   "execution_count": 51,
   "id": "8ead1530-1fbd-4225-9e95-a2b817e67b8b",
   "metadata": {},
   "outputs": [],
   "source": [
    "def fetch_predictions():\n",
    "    current_date = pd.Timestamp.now(tz='Etc/UTC').ceil('h')\n",
    "\n",
    "    fs = get_feature_store()\n",
    "    fg = fs.get_feature_group(\n",
    "        name=config.FEATURE_GROUP_MODEL_PREDICTION,\n",
    "        version=1\n",
    "    )\n",
    "\n",
    "    query = fg.select_all()\n",
    "    query = query.filter(fg.pickup_hour == current_hour)\n",
    "\n",
    "    return query.read()"
   ]
  },
  {
   "cell_type": "code",
   "execution_count": 33,
   "id": "672b5047-6ea2-4937-a7f0-916c5ab06642",
   "metadata": {},
   "outputs": [
    {
     "name": "stdout",
     "output_type": "stream",
     "text": [
      "2025-05-10 08:01:24,764 INFO: Initializing external client\n",
      "2025-05-10 08:01:24,765 INFO: Base URL: https://c.app.hopsworks.ai:443\n",
      "2025-05-10 08:01:25,590 INFO: Python Engine initialized.\n",
      "\n",
      "Logged in to project, explore it here https://c.app.hopsworks.ai:443/p/1228960\n",
      "✅ Feature group found.\n"
     ]
    }
   ],
   "source": [
    "import hopsworks\n",
    "import src.config as config\n",
    "from hsfs.client.exceptions import RestAPIError\n",
    "\n",
    "# Step 1: Login to Hopsworks and get feature store\n",
    "project = hopsworks.login(\n",
    "    project=config.HOPSWORKS_PROJECT_NAME,\n",
    "    api_key_value=config.HOPSWORKS_API_KEY,\n",
    ")\n",
    "fs = project.get_feature_store()\n",
    "\n",
    "# Step 2: Try fetching the feature group\n",
    "try:\n",
    "    fg = fs.get_feature_group(name=config.FEATURE_GROUP_MODEL_PREDICTION, version=1)\n",
    "    print(\"✅ Feature group found.\")\n",
    "except RestAPIError:\n",
    "    print(\"❌ Feature group not found. Check name or create it first.\")\n",
    "    fg = None\n"
   ]
  },
  {
   "cell_type": "code",
   "execution_count": 39,
   "id": "b059de8a-156e-48e2-a5b9-5cc0e6bac0ab",
   "metadata": {},
   "outputs": [
    {
     "name": "stdout",
     "output_type": "stream",
     "text": [
      "🔍 Looking for Feature Group:\n",
      "Name: citi_bike_prediction\n",
      "Version: 2\n",
      "2025-05-10 08:06:18,670 INFO: Closing external client and cleaning up certificates.\n",
      "Connection closed.\n",
      "2025-05-10 08:06:18,673 INFO: Initializing external client\n",
      "2025-05-10 08:06:18,674 INFO: Base URL: https://c.app.hopsworks.ai:443\n",
      "2025-05-10 08:06:19,444 INFO: Python Engine initialized.\n",
      "\n",
      "Logged in to project, explore it here https://c.app.hopsworks.ai:443/p/1228960\n",
      "✅ Connected to Hopsworks.\n"
     ]
    },
    {
     "ename": "AttributeError",
     "evalue": "'NoneType' object has no attribute 'read'",
     "output_type": "error",
     "traceback": [
      "\u001b[0;31m---------------------------------------------------------------------------\u001b[0m",
      "\u001b[0;31mAttributeError\u001b[0m                            Traceback (most recent call last)",
      "Cell \u001b[0;32mIn[39], line 24\u001b[0m\n\u001b[1;32m     20\u001b[0m fg \u001b[38;5;241m=\u001b[39m fs\u001b[38;5;241m.\u001b[39mget_feature_group(name\u001b[38;5;241m=\u001b[39m\u001b[38;5;124m\"\u001b[39m\u001b[38;5;124mciti_bike_prediction\u001b[39m\u001b[38;5;124m\"\u001b[39m, version\u001b[38;5;241m=\u001b[39m\u001b[38;5;241m2\u001b[39m)\n\u001b[1;32m     23\u001b[0m \u001b[38;5;66;03m# Step 3: Read recent prediction data\u001b[39;00m\n\u001b[0;32m---> 24\u001b[0m df \u001b[38;5;241m=\u001b[39m fg\u001b[38;5;241m.\u001b[39mread()\n\u001b[1;32m     25\u001b[0m df[\u001b[38;5;124m\"\u001b[39m\u001b[38;5;124mpickup_hour\u001b[39m\u001b[38;5;124m\"\u001b[39m] \u001b[38;5;241m=\u001b[39m pd\u001b[38;5;241m.\u001b[39mto_datetime(df[\u001b[38;5;124m\"\u001b[39m\u001b[38;5;124mpickup_hour\u001b[39m\u001b[38;5;124m\"\u001b[39m])\n\u001b[1;32m     26\u001b[0m df[\u001b[38;5;124m\"\u001b[39m\u001b[38;5;124mpickup_location_id\u001b[39m\u001b[38;5;124m\"\u001b[39m] \u001b[38;5;241m=\u001b[39m df[\u001b[38;5;124m\"\u001b[39m\u001b[38;5;124mpickup_location_id\u001b[39m\u001b[38;5;124m\"\u001b[39m]\u001b[38;5;241m.\u001b[39mastype(\u001b[38;5;28mstr\u001b[39m)\n",
      "\u001b[0;31mAttributeError\u001b[0m: 'NoneType' object has no attribute 'read'"
     ]
    }
   ],
   "source": [
    "# 17_fetch_predictions.ipynb\n",
    "\n",
    "import pandas as pd\n",
    "import hopsworks\n",
    "import src.config as config\n",
    "\n",
    "print(\"🔍 Looking for Feature Group:\")\n",
    "print(\"Name:\", config.FEATURE_GROUP_MODEL_PREDICTION)\n",
    "print(\"Version:\", config.FEATURE_GROUP_MODEL_PREDICTION_VERSION)\n",
    "\n",
    "# Step 1: Login to Hopsworks\n",
    "project = hopsworks.login(\n",
    "    project=config.HOPSWORKS_PROJECT_NAME,\n",
    "    api_key_value=config.HOPSWORKS_API_KEY,\n",
    ")\n",
    "fs = project.get_feature_store()\n",
    "print(\"✅ Connected to Hopsworks.\")\n",
    "\n",
    "# Step 2: Access the predictions Feature Group\n",
    "fg = fs.get_feature_group(name=\"citi_bike_prediction\", version=2)\n",
    "\n",
    "\n",
    "# Step 3: Read recent prediction data\n",
    "df = fg.read()\n",
    "df[\"pickup_hour\"] = pd.to_datetime(df[\"pickup_hour\"])\n",
    "df[\"pickup_location_id\"] = df[\"pickup_location_id\"].astype(str)\n",
    "df[\"predicted_rides\"] = df[\"predicted_rides\"].astype(int)\n",
    "\n",
    "latest_hour = df[\"pickup_hour\"].max()\n",
    "recent_preds = df[df[\"pickup_hour\"] == latest_hour].sort_values(\"predicted_rides\", ascending=False)\n",
    "\n",
    "import matplotlib.pyplot as plt\n",
    "\n",
    "# Optional: Quick bar plot\n",
    "recent_preds.plot(\n",
    "    x=\"pickup_location_id\", \n",
    "    y=\"predicted_rides\", \n",
    "    kind=\"bar\", \n",
    "    title=f\"Predicted Citi Bike Rides for {latest_hour}\", \n",
    "    legend=False\n",
    ")\n",
    "plt.ylabel(\"Rides\")\n",
    "plt.xlabel(\"Location ID\")\n",
    "plt.xticks(rotation=45)\n",
    "plt.tight_layout()\n",
    "plt.show()\n",
    "\n",
    "# Display top rows\n",
    "recent_preds.head()"
   ]
  },
  {
   "cell_type": "code",
   "execution_count": 57,
   "id": "a6b41b3f-0380-4861-9193-68a278b80f1d",
   "metadata": {},
   "outputs": [],
   "source": [
    "fg = fs.get_feature_group(name=\"citi_bike_prediction\", version=2)\n"
   ]
  },
  {
   "cell_type": "code",
   "execution_count": 71,
   "id": "3015ad82-b0b7-42e0-b6e3-6e69550da93a",
   "metadata": {},
   "outputs": [],
   "source": [
    "def fetch_next_hour_predictions():\n",
    "    # Get current UTC time and round up to next hour\n",
    "    now = datetime.now(timezone.utc)\n",
    "    next_hour = (now + timedelta(hours=1)).replace(minute=0, second=0, microsecond=0)\n",
    "\n",
    "    fs = get_feature_store()\n",
    "    fg = fs.get_feature_group(name=config.FEATURE_GROUP_MODEL_PREDICTION, version=1)\n",
    "\n",
    "    # Then filter for next hour in the DataFrame\n",
    "    df_hour = df[df[\"pickup_hour\"] == next_hour]\n",
    "\n",
    "    print(f\"Current UTC time: {now}\")\n",
    "    print(f\"Next hour: {next_hour}\")\n",
    "    print(f\"Found {len(df_hour)} records\")\n",
    "    return df_hour"
   ]
  },
  {
   "cell_type": "code",
   "execution_count": 75,
   "id": "6495da67-1068-41e0-9092-458c11626900",
   "metadata": {},
   "outputs": [
    {
     "name": "stdout",
     "output_type": "stream",
     "text": [
      "2025-05-10 08:12:05,258 INFO: Closing external client and cleaning up certificates.\n",
      "Connection closed.\n",
      "2025-05-10 08:12:05,261 INFO: Initializing external client\n",
      "2025-05-10 08:12:05,261 INFO: Base URL: https://c.app.hopsworks.ai:443\n",
      "2025-05-10 08:12:06,008 INFO: Python Engine initialized.\n",
      "\n",
      "Logged in to project, explore it here https://c.app.hopsworks.ai:443/p/1228960\n"
     ]
    }
   ],
   "source": [
    "fs = get_feature_store()\n",
    "fg = fs.get_feature_group(name=config.FEATURE_GROUP_MODEL_PREDICTION, version=1)\n",
    "\n"
   ]
  },
  {
   "cell_type": "code",
   "execution_count": 81,
   "id": "30f5c3e8-156e-44a5-ac8a-ccb1479a6936",
   "metadata": {},
   "outputs": [
    {
     "name": "stdout",
     "output_type": "stream",
     "text": [
      "2025-05-10 13:00:00+00:00\n"
     ]
    }
   ],
   "source": [
    "now = datetime.now(timezone.utc)\n",
    "next_hour = (now + timedelta(hours=1)).replace(minute=0, second=0, microsecond=0)\n",
    "print(next_hour)"
   ]
  },
  {
   "cell_type": "code",
   "execution_count": null,
   "id": "b9af9a12-698e-4a97-ac66-210503a8a129",
   "metadata": {},
   "outputs": [],
   "source": []
  }
 ],
 "metadata": {
  "kernelspec": {
   "display_name": "Python 3 (ipykernel)",
   "language": "python",
   "name": "python3"
  },
  "language_info": {
   "codemirror_mode": {
    "name": "ipython",
    "version": 3
   },
   "file_extension": ".py",
   "mimetype": "text/x-python",
   "name": "python",
   "nbconvert_exporter": "python",
   "pygments_lexer": "ipython3",
   "version": "3.12.7"
  }
 },
 "nbformat": 4,
 "nbformat_minor": 5
}
